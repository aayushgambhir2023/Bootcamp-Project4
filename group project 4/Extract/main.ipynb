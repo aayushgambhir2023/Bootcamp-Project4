{
 "cells": [
  {
   "cell_type": "code",
   "execution_count": 1,
   "id": "1acc8ef4",
   "metadata": {},
   "outputs": [],
   "source": [
    "import pandas as pd\n",
    "from pathlib import Path\n",
    "import openpyxl\n",
    "import matplotlib.pyplot as plt\n",
    "import numpy as np"
   ]
  },
  {
   "cell_type": "code",
   "execution_count": 3,
   "id": "7525309f",
   "metadata": {},
   "outputs": [],
   "source": [
    "#Using the path function from the pathlib library to read the excel files\n",
    "#Loading the operating budget data into dataframes\n",
    "budget_path_2019 = Path(\"Resources/approved-operating-budget-summary-2019.xlsx\") #2019\n",
    "budget2019_df = pd.read_excel(budget_path_2019, sheet_name='Open Data')\n",
    "budget_path_2020 = Path(\"Resources/approved-operating-budget-summary-2020.xlsx\") #2020\n",
    "budget2020_df = pd.read_excel(budget_path_2020, sheet_name='Open Data')\n",
    "budget_path_2021 = Path(\"Resources/approved-operating-budget-summary-2021.xlsx\") #2021\n",
    "budget2021_df = pd.read_excel(budget_path_2021, sheet_name='Open Data')\n",
    "budget_path_2022 = Path(\"Resources/approved-operating-budget-summary-2022.xlsx\") #2022\n",
    "budget2022_df = pd.read_excel(budget_path_2022, sheet_name='Open Data')\n",
    "budget_path_2023 = Path(\"Resources/approved-operating-budget-summary-2023.xlsx\") #2023\n",
    "budget2023_df = pd.read_excel(budget_path_2023, sheet_name='Open Data')\n",
    "df_list = [budget2019_df,budget2020_df,budget2021_df,budget2022_df,budget2023_df]"
   ]
  },
  {
   "cell_type": "code",
   "execution_count": 3,
   "id": "e17aaf7a",
   "metadata": {},
   "outputs": [],
   "source": [
    "#Changing the names of the excel sheet for consistency\n",
    "#The sheets are already renamed, and is only done once permanently\n",
    "#The old workseet title for workbook 2019 was '2019'\n",
    "#The old workseet title for workbook 2021 was '2021'\n",
    "workbook2019 = openpyxl.load_workbook(budget_path_2019) #opening the 2019 approved budget summary workbook\n",
    "rename_2019_sheet = workbook2019['Open Data'] #selecting the excel sheet to rename\n",
    "rename_2019_sheet.title = 'Open Data' #changing the title \n",
    "workbook2019.save(budget_path_2019)  #saving the modified file using the original file path\n",
    "workbook2019.close()  #closing the workbook"
   ]
  },
  {
   "cell_type": "code",
   "execution_count": 4,
   "id": "7e15ac44",
   "metadata": {},
   "outputs": [],
   "source": [
    "workbook2021 = openpyxl.load_workbook(budget_path_2021) #opening the 2019 approved budget summary workbook\n",
    "sheet_names = workbook2021.sheetnames # Get the sheet names of the workbook\n",
    "if '2021' in sheet_names: # if '2021' is in the sheet names\n",
    "    rename_2021_sheet = workbook2021['Open Data']  # Selecting the Excel sheet to rename\n",
    "    rename_2021_sheet.title = 'Open Data'  # Changing the title\n",
    "    workbook2021.save(budget_path_2021) #Saving the modified excel sheet\n",
    "workbook2021.close() # Closing the workbook"
   ]
  },
  {
   "cell_type": "code",
   "execution_count": 4,
   "id": "ae3bb5d3",
   "metadata": {},
   "outputs": [
    {
     "name": "stdout",
     "output_type": "stream",
     "text": [
      "Null counts for 2019:\n",
      "Program              0\n",
      "Service              0\n",
      "Activity             0\n",
      "Expense/Revenue      0\n",
      "Category Name        0\n",
      "Sub-Category Name    0\n",
      "Commitment item      0\n",
      "2019                 0\n",
      "dtype: int64\n",
      "\n",
      "Null counts for 2020:\n",
      "Program              0\n",
      "Service              0\n",
      "Activity             0\n",
      "Expense/Revenue      0\n",
      "Category Name        0\n",
      "Sub-Category Name    0\n",
      "Commitment item      0\n",
      "2020                 0\n",
      "dtype: int64\n",
      "\n",
      "Null counts for 2021:\n",
      "Program              0\n",
      "Service              0\n",
      "Activity             0\n",
      "Expense/Revenue      0\n",
      "Category Name        0\n",
      "Sub-Category Name    0\n",
      "Commitment item      0\n",
      "2021                 0\n",
      "dtype: int64\n",
      "\n",
      "Null counts for 2022:\n",
      "Program              0\n",
      "Service              0\n",
      "Activity             0\n",
      "Expense/Revenue      0\n",
      "Category Name        0\n",
      "Sub-Category Name    0\n",
      "Commitment item      0\n",
      "2022                 0\n",
      "dtype: int64\n",
      "\n",
      "Null counts for 2023:\n",
      "Program              0\n",
      "Service              0\n",
      "Activity             0\n",
      "Expense/Revenue      0\n",
      "Category Name        0\n",
      "Sub-Category Name    0\n",
      "Commitment item      0\n",
      "2023                 0\n",
      "dtype: int64\n",
      "\n"
     ]
    }
   ],
   "source": [
    "null_counts_per_year = {} #Empty to dictionary to store the null count \n",
    "for i, df in enumerate(df_list):\n",
    "    year = 2019 + i\n",
    "    \n",
    "    # Calculate null values and sum for each column\n",
    "    null_values = df.isnull()\n",
    "    null_per_column = null_values.sum()\n",
    "    \n",
    "    # Store the result in the dictionary\n",
    "    null_counts_per_year[year] = null_per_column\n",
    "\n",
    "# Print the results\n",
    "for year, null_counts in null_counts_per_year.items():\n",
    "    print(f\"Null counts for {year}:\")\n",
    "    print(null_counts)\n",
    "    print()"
   ]
  },
  {
   "cell_type": "code",
   "execution_count": 5,
   "id": "7784ea8c",
   "metadata": {},
   "outputs": [],
   "source": [
    "for i, df in enumerate(df_list): #Renaming the last column using a loop\n",
    "    year = 2019 + i\n",
    "    new_column_name = f'Budgeted amount {year}'\n",
    "    df.rename(columns={year: new_column_name}, inplace=True)"
   ]
  },
  {
   "cell_type": "code",
   "execution_count": 6,
   "id": "4d6cab3c",
   "metadata": {},
   "outputs": [],
   "source": [
    "format_sci_notation = lambda x: '{:.6e}'.format(float(x)) #Changing the scientific notation \n",
    "for df in df_list:\n",
    "    for column in df.columns:\n",
    "        if 'Budgeted amount' in column:\n",
    "            df[column] = df[column].apply(format_sci_notation)"
   ]
  },
  {
   "cell_type": "code",
   "execution_count": 7,
   "id": "5ef1cb85",
   "metadata": {},
   "outputs": [],
   "source": [
    "#Seperating the dataframes into expense and revenue dataframes\n",
    "budget2019_df_exp = budget2019_df[budget2019_df['Expense/Revenue']=='Expenses']\n",
    "budget2020_df_exp = budget2020_df[budget2020_df['Expense/Revenue']=='Expenses']\n",
    "budget2021_df_exp = budget2021_df[budget2021_df['Expense/Revenue']=='Expenses']\n",
    "budget2022_df_exp = budget2022_df[budget2022_df['Expense/Revenue']=='Expenses']\n",
    "budget2023_df_exp = budget2023_df[budget2023_df['Expense/Revenue']=='Expenses']"
   ]
  },
  {
   "cell_type": "code",
   "execution_count": 8,
   "id": "d3ca8540",
   "metadata": {},
   "outputs": [],
   "source": [
    "budget2019_df_rev = budget2019_df[budget2019_df['Expense/Revenue']=='Revenues']\n",
    "budget2020_df_rev = budget2020_df[budget2020_df['Expense/Revenue']=='Revenues']\n",
    "budget2021_df_rev = budget2021_df[budget2021_df['Expense/Revenue']=='Revenues']\n",
    "budget2022_df_rev = budget2022_df[budget2022_df['Expense/Revenue']=='Revenues']\n",
    "budget2023_df_rev = budget2023_df[budget2023_df['Expense/Revenue']=='Revenues']"
   ]
  },
  {
   "cell_type": "code",
   "execution_count": null,
   "id": "5b2a0ee8",
   "metadata": {},
   "outputs": [],
   "source": [
    "#clean 2021 budget category \"0\"\n",
    "budget2021_df = budget2021_df.loc[budget2021_df[\"Category Name\"] != 0, :]\n",
    "budget2021_df[\"Category Name\"].value_counts()"
   ]
  }
 ],
 "metadata": {
  "kernelspec": {
   "display_name": "Python 3 (ipykernel)",
   "language": "python",
   "name": "python3"
  },
  "language_info": {
   "codemirror_mode": {
    "name": "ipython",
    "version": 3
   },
   "file_extension": ".py",
   "mimetype": "text/x-python",
   "name": "python",
   "nbconvert_exporter": "python",
   "pygments_lexer": "ipython3",
   "version": "3.11.5"
  }
 },
 "nbformat": 4,
 "nbformat_minor": 5
}
