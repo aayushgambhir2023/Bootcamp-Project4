{
 "cells": [
  {
   "cell_type": "code",
   "execution_count": null,
   "metadata": {},
   "outputs": [],
   "source": [
    "import requests\n",
    "import pandas as pd\n",
    "\n",
    "dataframes = [pd.DataFrame() for _ in range(12)]\n",
    "\n",
    "\n",
    "#base_url\n",
    "base_url = \"https://ckan0.cf.opendata.inter.prod-toronto.ca\"\n",
    "\n",
    "#query\n",
    "query=\"/api/3/action/package_show\"\n",
    "\n",
    "url = base_url + query\n",
    "\n",
    "params = {\"id\": \"budget-operating-budget-program-summary-by-expenditure-category\"}\n",
    "\n",
    "package = requests.get(url, params=params).json()\n",
    "\n",
    "# To get resource data:\n",
    "for idx, resource in enumerate(package[\"result\"][\"resources\"]):\n",
    "\n",
    "    # To get metadata for non datastore_active resources:\n",
    "    if not resource[\"datastore_active\"]:\n",
    "        url = base_url + \"/api/3/action/resource_show?id=\" + resource[\"id\"]\n",
    "        resource_metadata = requests.get(url).json()\n",
    "        dURL = str(resource_metadata[\"result\"][\"url\"])\n",
    "\n",
    "        # Check if the URL contains years from 2014 to 2023\n",
    "        if any(str(year) in resource_metadata[\"result\"][\"url\"] for year in range(2014, 2024)):\n",
    "            \n",
    "            if ((\"preliminary\" not in dURL) and (\"recommended\" not in dURL)):\n",
    "                \n",
    "                # try different sheet names:\n",
    "                # Option 1 = sheet by order 0\n",
    "                # Option 2 = Open Data\n",
    "                # Option 3 = Year\n",
    "                try:\n",
    "                    df2 = pd.read_excel(resource_metadata[\"result\"][\"url\"], sheet_name=0, header=0)\n",
    "                    dataframes[idx] = df2\n",
    "                    \n",
    "                    if df2.empty:\n",
    "                        df3 = pd.read_excel(resource_metadata[\"result\"][\"url\"], sheet_name='Open Data', header=0)\n",
    "                        dataframes[idx] = df3\n",
    "                        \n",
    "                    print(f\"DF created: {idx} - {dURL}\")\n",
    "                        \n",
    "                except:\n",
    "                    for yr in range(2014, 2024):\n",
    "                        try:\n",
    "                            df = pd.read_excel(resource_metadata[\"result\"][\"url\"], sheet_name=str(yr), header=0)\n",
    "                            dataframes[idx] = df\n",
    "                            print(f\"DF created: {idx} - {dURL}\")\n",
    "                            break\n",
    "                        except:\n",
    "                            print(f\"Sheetname not found: {yr}\")"
   ]
  },
  {
   "cell_type": "code",
   "execution_count": null,
   "metadata": {},
   "outputs": [],
   "source": [
    "print(\"-\"*30)\n",
    "for df in dataframes:\n",
    "    print(df.columns)\n",
    "    print(f\"DF Size = {df.shape[0]} Rows.\")\n",
    "    print(\"-\"*20)"
   ]
  },
  {
   "cell_type": "code",
   "execution_count": null,
   "metadata": {},
   "outputs": [],
   "source": [
    "budget2014_df = dataframes[10]\n",
    "budget2015_df = dataframes[9]\n",
    "budget2016_df = dataframes[7] \n",
    "budget2017_df = dataframes[6] \n",
    "budget2018_df = dataframes[5] \n",
    "budget2019_df = dataframes[4] \n",
    "budget2020_df = dataframes[3] \n",
    "budget2021_df = dataframes[2] \n",
    "budget2022_df = dataframes[1]\n",
    "budget2023_df = dataframes[0]\n",
    "\n",
    "#create new List to maintain original dataframes\n",
    "df_list = [\n",
    "    budget2014_df,\n",
    "    budget2015_df,\n",
    "    budget2016_df,\n",
    "    budget2017_df,\n",
    "    budget2018_df,\n",
    "    budget2019_df,\n",
    "    budget2020_df,\n",
    "    budget2021_df,\n",
    "    budget2022_df,\n",
    "    budget2023_df,\n",
    "]"
   ]
  },
  {
   "cell_type": "code",
   "execution_count": null,
   "metadata": {},
   "outputs": [],
   "source": [
    "#Renaming the last column using a loop\n",
    "for i, df in enumerate(df_list):\n",
    "    year = 2014 + i\n",
    "    new_column_name = f'Budgeted amount {year}'\n",
    "    df.rename(columns={year: new_column_name}, inplace=True)"
   ]
  },
  {
   "cell_type": "code",
   "execution_count": null,
   "metadata": {},
   "outputs": [],
   "source": [
    "budget2016_df.rename(columns={\" 2016\": \"Budgeted amount 2016\"}, inplace=True)"
   ]
  },
  {
   "cell_type": "code",
   "execution_count": null,
   "metadata": {},
   "outputs": [],
   "source": [
    "#Changing the scientific notation \n",
    "format_sci_notation = lambda x: '{:.6e}'.format(float(x))\n",
    "for df in df_list:\n",
    "    last_col = df.columns[-1]\n",
    "    df[last_col] = pd.to_numeric(df[last_col], errors='coerce')"
   ]
  },
  {
   "cell_type": "code",
   "execution_count": null,
   "metadata": {},
   "outputs": [],
   "source": [
    "#clean 2021 budget category \"0\"\n",
    "budget2021_df = budget2021_df.loc[budget2021_df[\"Category Name\"] != 0, :]"
   ]
  },
  {
   "cell_type": "code",
   "execution_count": null,
   "metadata": {},
   "outputs": [],
   "source": [
    "#Seperating the dataframes into expense and revenue dataframes\n",
    "budget2014_df_exp = budget2014_df[budget2014_df['Expense/Revenue']=='Expenses']\n",
    "budget2015_df_exp = budget2015_df[budget2015_df['Expense/Revenue']=='Expenses']\n",
    "budget2016_df_exp = budget2016_df[budget2016_df['Expense/Revenue']=='Expenses']\n",
    "budget2017_df_exp = budget2017_df[budget2017_df['Expense/Revenue']=='Expenses']\n",
    "budget2018_df_exp = budget2018_df[budget2018_df['Expense/Revenue']=='Expenses']\n",
    "budget2019_df_exp = budget2019_df[budget2019_df['Expense/Revenue']=='Expenses']\n",
    "budget2020_df_exp = budget2020_df[budget2020_df['Expense/Revenue']=='Expenses']\n",
    "budget2021_df_exp = budget2021_df[budget2021_df['Expense/Revenue']=='Expenses']\n",
    "budget2022_df_exp = budget2022_df[budget2022_df['Expense/Revenue']=='Expenses']\n",
    "budget2023_df_exp = budget2023_df[budget2023_df['Expense/Revenue']=='Expenses']\n",
    "\n",
    "#Revenues\n",
    "budget2014_df_rev = budget2014_df[budget2014_df['Expense/Revenue']=='Revenues']\n",
    "budget2015_df_rev = budget2015_df[budget2015_df['Expense/Revenue']=='Revenues']\n",
    "budget2016_df_rev = budget2016_df[budget2016_df['Expense/Revenue']=='Revenues']\n",
    "budget2017_df_rev = budget2017_df[budget2017_df['Expense/Revenue']=='Revenues']\n",
    "budget2018_df_rev = budget2018_df[budget2018_df['Expense/Revenue']=='Revenues']\n",
    "budget2019_df_rev = budget2019_df[budget2019_df['Expense/Revenue']=='Revenues']\n",
    "budget2020_df_rev = budget2020_df[budget2020_df['Expense/Revenue']=='Revenues']\n",
    "budget2021_df_rev = budget2021_df[budget2021_df['Expense/Revenue']=='Revenues']\n",
    "budget2022_df_rev = budget2022_df[budget2022_df['Expense/Revenue']=='Revenues']\n",
    "budget2023_df_rev = budget2023_df[budget2023_df['Expense/Revenue']=='Revenues']"
   ]
  },
  {
   "cell_type": "code",
   "execution_count": null,
   "metadata": {},
   "outputs": [],
   "source": []
  }
 ],
 "metadata": {
  "kernelspec": {
   "display_name": "Python 3 (ipykernel)",
   "language": "python",
   "name": "python3"
  },
  "language_info": {
   "codemirror_mode": {
    "name": "ipython",
    "version": 3
   },
   "file_extension": ".py",
   "mimetype": "text/x-python",
   "name": "python",
   "nbconvert_exporter": "python",
   "pygments_lexer": "ipython3",
   "version": "3.11.5"
  }
 },
 "nbformat": 4,
 "nbformat_minor": 2
}
