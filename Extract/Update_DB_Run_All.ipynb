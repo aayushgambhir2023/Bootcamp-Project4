{
 "cells": [
  {
   "cell_type": "code",
   "execution_count": null,
   "id": "754417fb-09b2-45b6-8723-3d7e948724fd",
   "metadata": {},
   "outputs": [],
   "source": [
    "%run Ourlier_analysis.ipynb\n",
    "%run program_analysis.ipynb\n",
    "%run revenu_cat_analysis.ipynb\n",
    "%run statistics_analysis.ipynb\n",
    "print(\"DB's Updated!\")"
   ]
  }
 ],
 "metadata": {
  "kernelspec": {
   "display_name": "Python 3 (ipykernel)",
   "language": "python",
   "name": "python3"
  },
  "language_info": {
   "codemirror_mode": {
    "name": "ipython",
    "version": 3
   },
   "file_extension": ".py",
   "mimetype": "text/x-python",
   "name": "python",
   "nbconvert_exporter": "python",
   "pygments_lexer": "ipython3",
   "version": "3.11.7"
  }
 },
 "nbformat": 4,
 "nbformat_minor": 5
}
