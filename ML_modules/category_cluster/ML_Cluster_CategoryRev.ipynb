{
 "cells": [
  {
   "cell_type": "code",
   "execution_count": 6,
   "id": "247ca38d",
   "metadata": {},
   "outputs": [],
   "source": [
    "import numpy as np\n",
    "import pandas as pd\n",
    "import requests\n",
    "import warnings\n",
    "import matplotlib.pyplot as plt\n",
    "from sklearn.preprocessing import StandardScaler\n",
    "from sklearn.cluster import AgglomerativeClustering\n",
    "import scipy.cluster.hierarchy as sch\n",
    "from sklearn.impute import SimpleImputer\n",
    "from sklearn.metrics import silhouette_score\n",
    "import os\n",
    "from sklearn.cluster import KMeans"
   ]
  },
  {
   "cell_type": "code",
   "execution_count": 16,
   "id": "acc7c598",
   "metadata": {},
   "outputs": [
    {
     "data": {
      "text/html": [
       "<div>\n",
       "<style scoped>\n",
       "    .dataframe tbody tr th:only-of-type {\n",
       "        vertical-align: middle;\n",
       "    }\n",
       "\n",
       "    .dataframe tbody tr th {\n",
       "        vertical-align: top;\n",
       "    }\n",
       "\n",
       "    .dataframe thead th {\n",
       "        text-align: right;\n",
       "    }\n",
       "</style>\n",
       "<table border=\"1\" class=\"dataframe\">\n",
       "  <thead>\n",
       "    <tr style=\"text-align: right;\">\n",
       "      <th></th>\n",
       "      <th>2014</th>\n",
       "      <th>2015</th>\n",
       "      <th>2016</th>\n",
       "      <th>2017</th>\n",
       "      <th>2018</th>\n",
       "      <th>2019</th>\n",
       "      <th>2020</th>\n",
       "      <th>2021</th>\n",
       "      <th>2022</th>\n",
       "      <th>2023</th>\n",
       "      <th>2024</th>\n",
       "      <th>2025</th>\n",
       "      <th>2026</th>\n",
       "      <th>2027</th>\n",
       "      <th>2028</th>\n",
       "    </tr>\n",
       "  </thead>\n",
       "  <tbody>\n",
       "    <tr>\n",
       "      <th>Actual</th>\n",
       "      <td>10.994</td>\n",
       "      <td>11.464</td>\n",
       "      <td>11.683</td>\n",
       "      <td>12.287</td>\n",
       "      <td>12.933</td>\n",
       "      <td>13.415</td>\n",
       "      <td>13.531</td>\n",
       "      <td>14.205</td>\n",
       "      <td>15.228</td>\n",
       "      <td>16.468</td>\n",
       "      <td>NaN</td>\n",
       "      <td>NaN</td>\n",
       "      <td>NaN</td>\n",
       "      <td>NaN</td>\n",
       "      <td>NaN</td>\n",
       "    </tr>\n",
       "    <tr>\n",
       "      <th>Prediction</th>\n",
       "      <td>10.626</td>\n",
       "      <td>11.195</td>\n",
       "      <td>11.765</td>\n",
       "      <td>12.335</td>\n",
       "      <td>12.905</td>\n",
       "      <td>13.474</td>\n",
       "      <td>14.044</td>\n",
       "      <td>14.614</td>\n",
       "      <td>15.184</td>\n",
       "      <td>15.753</td>\n",
       "      <td>16.323</td>\n",
       "      <td>16.893</td>\n",
       "      <td>17.463</td>\n",
       "      <td>18.032</td>\n",
       "      <td>18.602</td>\n",
       "    </tr>\n",
       "  </tbody>\n",
       "</table>\n",
       "</div>"
      ],
      "text/plain": [
       "              2014    2015    2016    2017    2018    2019    2020    2021  \\\n",
       "Actual      10.994  11.464  11.683  12.287  12.933  13.415  13.531  14.205   \n",
       "Prediction  10.626  11.195  11.765  12.335  12.905  13.474  14.044  14.614   \n",
       "\n",
       "              2022    2023    2024    2025    2026    2027    2028  \n",
       "Actual      15.228  16.468     NaN     NaN     NaN     NaN     NaN  \n",
       "Prediction  15.184  15.753  16.323  16.893  17.463  18.032  18.602  "
      ]
     },
     "execution_count": 16,
     "metadata": {},
     "output_type": "execute_result"
    }
   ],
   "source": [
    "# Single API endpoint providing all years' budget data\n",
    "api_endpoint = 'http://127.0.0.1:5000/api/v1.0/linear_regress_rev/actual_vs_predicted/static'\n",
    "\n",
    "# Fetch the data from the API\n",
    "response = requests.get(api_endpoint)\n",
    "response.raise_for_status()  # This will raise an exception for HTTP errors if any occur\n",
    "data = response.json()\n",
    "\n",
    "# Convert the JSON data to a DataFrame\n",
    "# Assuming the JSON data includes a 'Year' field in each record\n",
    "df = pd.DataFrame(data)\n",
    "\n",
    "# Print the first few rows to verify data structure\n",
    "df.head(15)\n"
   ]
  },
  {
   "cell_type": "code",
   "execution_count": 15,
   "id": "8c15e7cf",
   "metadata": {},
   "outputs": [
    {
     "ename": "AttributeError",
     "evalue": "'numpy.ndarray' object has no attribute 'head'",
     "output_type": "error",
     "traceback": [
      "\u001b[0;31m---------------------------------------------------------------------------\u001b[0m",
      "\u001b[0;31mAttributeError\u001b[0m                            Traceback (most recent call last)",
      "Cell \u001b[0;32mIn[15], line 12\u001b[0m\n\u001b[1;32m     10\u001b[0m scaler \u001b[38;5;241m=\u001b[39m StandardScaler()\n\u001b[1;32m     11\u001b[0m features_scaled \u001b[38;5;241m=\u001b[39m scaler\u001b[38;5;241m.\u001b[39mfit_transform(features)\n\u001b[0;32m---> 12\u001b[0m features_scaled\u001b[38;5;241m.\u001b[39mhead(\u001b[38;5;241m15\u001b[39m)\n",
      "\u001b[0;31mAttributeError\u001b[0m: 'numpy.ndarray' object has no attribute 'head'"
     ]
    }
   ],
   "source": [
    "# Select relevant numeric features for clustering\n",
    "# You may need to exclude non-relevant columns such as IDs or descriptive text\n",
    "features = df.select_dtypes(include=[np.number])  # This selects only numeric columns\n",
    "\n",
    "# Handle missing values\n",
    "imputer = SimpleImputer(strategy='mean')  # Replace missing values with the mean of each column\n",
    "features = imputer.fit_transform(features)\n",
    "\n",
    "# Standardize the features\n",
    "scaler = StandardScaler()\n",
    "features_scaled = scaler.fit_transform(features)\n",
    "features_scaled.head(15)"
   ]
  },
  {
   "cell_type": "code",
   "execution_count": 11,
   "id": "e44972f1",
   "metadata": {},
   "outputs": [
    {
     "name": "stderr",
     "output_type": "stream",
     "text": [
      "/Users/muskanmittal/anaconda3/lib/python3.11/site-packages/sklearn/cluster/_agglomerative.py:1005: FutureWarning: Attribute `affinity` was deprecated in version 1.2 and will be removed in 1.4. Use `metric` instead\n",
      "  warnings.warn(\n"
     ]
    },
    {
     "data": {
      "image/png": "[encoded data removed]",
      "text/plain": [
       "<Figure size 1000x700 with 1 Axes>"
      ]
     },
     "metadata": {},
     "output_type": "display_data"
    }
   ],
   "source": [
    "# Perform the clustering\n",
    "cluster = AgglomerativeClustering(n_clusters=None, distance_threshold=0, affinity='euclidean', linkage='ward')\n",
    "cluster_labels = cluster.fit_predict(features_scaled)\n",
    "\n",
    "# Optionally, plot a dendrogram to visualize the hierarchical clustering\n",
    "plt.figure(figsize=(10, 7))\n",
    "plt.title(\"Dendrogram\")\n",
    "dendrogram = sch.dendrogram(sch.linkage(features_scaled, method='ward'))\n",
    "plt.show()"
   ]
  },
  {
   "cell_type": "code",
   "execution_count": 12,
   "id": "b16277cc",
   "metadata": {},
   "outputs": [],
   "source": [
    "# Assuming 'features_scaled' is your dataset ready for clustering\n",
    "import pickle\n",
    "\n",
    "num_samples = features_scaled.shape[0]\n",
    "max_clusters = min(num_samples - 1, 10)  # Ensuring we do not attempt too many clusters\n",
    "\n",
    "for n_clusters in range(2, max_clusters + 1):  # Ensure at least two clusters\n",
    "    clusterer = AgglomerativeClustering(n_clusters=n_clusters, linkage='ward')\n",
    "    cluster_labels = clusterer.fit_predict(features_scaled)\n",
    "    \n",
    "    filename = f\"cluster_models/cluster_model_Cluster{n_clusters}\"\n",
    "    with open(filename, \"wb\") as file:\n",
    "        pickle.dump(clusterer, file)\n",
    "\n",
    "    # Calculate and print the silhouette score\n",
    "    silhouette_avg = silhouette_score(features_scaled, cluster_labels)\n",
    "    print(\"For n_clusters =\", n_clusters, \"The average silhouette_score is :\", silhouette_avg)"
   ]
  },
  {
   "cell_type": "code",
   "execution_count": null,
   "id": "f4e5f857",
   "metadata": {},
   "outputs": [],
   "source": []
  },
  {
   "cell_type": "code",
   "execution_count": 13,
   "id": "097339bb",
   "metadata": {},
   "outputs": [
    {
     "ename": "ValueError",
     "evalue": "Cannot extract more clusters than samples: 5 clusters where given for a tree with 2 leaves.",
     "output_type": "error",
     "traceback": [
      "\u001b[0;31m---------------------------------------------------------------------------\u001b[0m",
      "\u001b[0;31mValueError\u001b[0m                                Traceback (most recent call last)",
      "Cell \u001b[0;32mIn[13], line 3\u001b[0m\n\u001b[1;32m      1\u001b[0m \u001b[38;5;66;03m# Fit the final model\u001b[39;00m\n\u001b[1;32m      2\u001b[0m final_cluster \u001b[38;5;241m=\u001b[39m AgglomerativeClustering(n_clusters\u001b[38;5;241m=\u001b[39m\u001b[38;5;241m5\u001b[39m, linkage\u001b[38;5;241m=\u001b[39m\u001b[38;5;124m'\u001b[39m\u001b[38;5;124mward\u001b[39m\u001b[38;5;124m'\u001b[39m)\n\u001b[0;32m----> 3\u001b[0m final_labels \u001b[38;5;241m=\u001b[39m final_cluster\u001b[38;5;241m.\u001b[39mfit_predict(features_scaled)\n\u001b[1;32m      5\u001b[0m \u001b[38;5;66;03m# Add cluster labels to the original DataFrame\u001b[39;00m\n\u001b[1;32m      6\u001b[0m df[\u001b[38;5;124m'\u001b[39m\u001b[38;5;124mCluster\u001b[39m\u001b[38;5;124m'\u001b[39m] \u001b[38;5;241m=\u001b[39m final_labels\n",
      "File \u001b[0;32m~/anaconda3/lib/python3.11/site-packages/sklearn/cluster/_agglomerative.py:1123\u001b[0m, in \u001b[0;36mAgglomerativeClustering.fit_predict\u001b[0;34m(self, X, y)\u001b[0m\n\u001b[1;32m   1102\u001b[0m \u001b[38;5;28;01mdef\u001b[39;00m \u001b[38;5;21mfit_predict\u001b[39m(\u001b[38;5;28mself\u001b[39m, X, y\u001b[38;5;241m=\u001b[39m\u001b[38;5;28;01mNone\u001b[39;00m):\n\u001b[1;32m   1103\u001b[0m \u001b[38;5;250m    \u001b[39m\u001b[38;5;124;03m\"\"\"Fit and return the result of each sample's clustering assignment.\u001b[39;00m\n\u001b[1;32m   1104\u001b[0m \n\u001b[1;32m   1105\u001b[0m \u001b[38;5;124;03m    In addition to fitting, this method also return the result of the\u001b[39;00m\n\u001b[0;32m   (...)\u001b[0m\n\u001b[1;32m   1121\u001b[0m \u001b[38;5;124;03m        Cluster labels.\u001b[39;00m\n\u001b[1;32m   1122\u001b[0m \u001b[38;5;124;03m    \"\"\"\u001b[39;00m\n\u001b[0;32m-> 1123\u001b[0m     \u001b[38;5;28;01mreturn\u001b[39;00m \u001b[38;5;28msuper\u001b[39m()\u001b[38;5;241m.\u001b[39mfit_predict(X, y)\n",
      "File \u001b[0;32m~/anaconda3/lib/python3.11/site-packages/sklearn/base.py:790\u001b[0m, in \u001b[0;36mClusterMixin.fit_predict\u001b[0;34m(self, X, y)\u001b[0m\n\u001b[1;32m    772\u001b[0m \u001b[38;5;250m\u001b[39m\u001b[38;5;124;03m\"\"\"\u001b[39;00m\n\u001b[1;32m    773\u001b[0m \u001b[38;5;124;03mPerform clustering on `X` and returns cluster labels.\u001b[39;00m\n\u001b[1;32m    774\u001b[0m \n\u001b[0;32m   (...)\u001b[0m\n\u001b[1;32m    786\u001b[0m \u001b[38;5;124;03m    Cluster labels.\u001b[39;00m\n\u001b[1;32m    787\u001b[0m \u001b[38;5;124;03m\"\"\"\u001b[39;00m\n\u001b[1;32m    788\u001b[0m \u001b[38;5;66;03m# non-optimized default implementation; override when a better\u001b[39;00m\n\u001b[1;32m    789\u001b[0m \u001b[38;5;66;03m# method is possible for a given clustering algorithm\u001b[39;00m\n\u001b[0;32m--> 790\u001b[0m \u001b[38;5;28mself\u001b[39m\u001b[38;5;241m.\u001b[39mfit(X)\n\u001b[1;32m    791\u001b[0m \u001b[38;5;28;01mreturn\u001b[39;00m \u001b[38;5;28mself\u001b[39m\u001b[38;5;241m.\u001b[39mlabels_\n",
      "File \u001b[0;32m~/anaconda3/lib/python3.11/site-packages/sklearn/base.py:1151\u001b[0m, in \u001b[0;36m_fit_context.<locals>.decorator.<locals>.wrapper\u001b[0;34m(estimator, *args, **kwargs)\u001b[0m\n\u001b[1;32m   1144\u001b[0m     estimator\u001b[38;5;241m.\u001b[39m_validate_params()\n\u001b[1;32m   1146\u001b[0m \u001b[38;5;28;01mwith\u001b[39;00m config_context(\n\u001b[1;32m   1147\u001b[0m     skip_parameter_validation\u001b[38;5;241m=\u001b[39m(\n\u001b[1;32m   1148\u001b[0m         prefer_skip_nested_validation \u001b[38;5;129;01mor\u001b[39;00m global_skip_validation\n\u001b[1;32m   1149\u001b[0m     )\n\u001b[1;32m   1150\u001b[0m ):\n\u001b[0;32m-> 1151\u001b[0m     \u001b[38;5;28;01mreturn\u001b[39;00m fit_method(estimator, \u001b[38;5;241m*\u001b[39margs, \u001b[38;5;241m*\u001b[39m\u001b[38;5;241m*\u001b[39mkwargs)\n",
      "File \u001b[0;32m~/anaconda3/lib/python3.11/site-packages/sklearn/cluster/_agglomerative.py:978\u001b[0m, in \u001b[0;36mAgglomerativeClustering.fit\u001b[0;34m(self, X, y)\u001b[0m\n\u001b[1;32m    960\u001b[0m \u001b[38;5;250m\u001b[39m\u001b[38;5;124;03m\"\"\"Fit the hierarchical clustering from features, or distance matrix.\u001b[39;00m\n\u001b[1;32m    961\u001b[0m \n\u001b[1;32m    962\u001b[0m \u001b[38;5;124;03mParameters\u001b[39;00m\n\u001b[0;32m   (...)\u001b[0m\n\u001b[1;32m    975\u001b[0m \u001b[38;5;124;03m    Returns the fitted instance.\u001b[39;00m\n\u001b[1;32m    976\u001b[0m \u001b[38;5;124;03m\"\"\"\u001b[39;00m\n\u001b[1;32m    977\u001b[0m X \u001b[38;5;241m=\u001b[39m \u001b[38;5;28mself\u001b[39m\u001b[38;5;241m.\u001b[39m_validate_data(X, ensure_min_samples\u001b[38;5;241m=\u001b[39m\u001b[38;5;241m2\u001b[39m)\n\u001b[0;32m--> 978\u001b[0m \u001b[38;5;28;01mreturn\u001b[39;00m \u001b[38;5;28mself\u001b[39m\u001b[38;5;241m.\u001b[39m_fit(X)\n",
      "File \u001b[0;32m~/anaconda3/lib/python3.11/site-packages/sklearn/cluster/_agglomerative.py:1093\u001b[0m, in \u001b[0;36mAgglomerativeClustering._fit\u001b[0;34m(self, X)\u001b[0m\n\u001b[1;32m   1091\u001b[0m \u001b[38;5;66;03m# Cut the tree\u001b[39;00m\n\u001b[1;32m   1092\u001b[0m \u001b[38;5;28;01mif\u001b[39;00m compute_full_tree:\n\u001b[0;32m-> 1093\u001b[0m     \u001b[38;5;28mself\u001b[39m\u001b[38;5;241m.\u001b[39mlabels_ \u001b[38;5;241m=\u001b[39m _hc_cut(\u001b[38;5;28mself\u001b[39m\u001b[38;5;241m.\u001b[39mn_clusters_, \u001b[38;5;28mself\u001b[39m\u001b[38;5;241m.\u001b[39mchildren_, \u001b[38;5;28mself\u001b[39m\u001b[38;5;241m.\u001b[39mn_leaves_)\n\u001b[1;32m   1094\u001b[0m \u001b[38;5;28;01melse\u001b[39;00m:\n\u001b[1;32m   1095\u001b[0m     labels \u001b[38;5;241m=\u001b[39m _hierarchical\u001b[38;5;241m.\u001b[39mhc_get_heads(parents, copy\u001b[38;5;241m=\u001b[39m\u001b[38;5;28;01mFalse\u001b[39;00m)\n",
      "File \u001b[0;32m~/anaconda3/lib/python3.11/site-packages/sklearn/cluster/_agglomerative.py:736\u001b[0m, in \u001b[0;36m_hc_cut\u001b[0;34m(n_clusters, children, n_leaves)\u001b[0m\n\u001b[1;32m    712\u001b[0m \u001b[38;5;250m\u001b[39m\u001b[38;5;124;03m\"\"\"Function cutting the ward tree for a given number of clusters.\u001b[39;00m\n\u001b[1;32m    713\u001b[0m \n\u001b[1;32m    714\u001b[0m \u001b[38;5;124;03mParameters\u001b[39;00m\n\u001b[0;32m   (...)\u001b[0m\n\u001b[1;32m    733\u001b[0m \u001b[38;5;124;03m    Cluster labels for each point.\u001b[39;00m\n\u001b[1;32m    734\u001b[0m \u001b[38;5;124;03m\"\"\"\u001b[39;00m\n\u001b[1;32m    735\u001b[0m \u001b[38;5;28;01mif\u001b[39;00m n_clusters \u001b[38;5;241m>\u001b[39m n_leaves:\n\u001b[0;32m--> 736\u001b[0m     \u001b[38;5;28;01mraise\u001b[39;00m \u001b[38;5;167;01mValueError\u001b[39;00m(\n\u001b[1;32m    737\u001b[0m         \u001b[38;5;124m\"\u001b[39m\u001b[38;5;124mCannot extract more clusters than samples: \u001b[39m\u001b[38;5;124m\"\u001b[39m\n\u001b[1;32m    738\u001b[0m         \u001b[38;5;124m\"\u001b[39m\u001b[38;5;132;01m%s\u001b[39;00m\u001b[38;5;124m clusters where given for a tree with \u001b[39m\u001b[38;5;132;01m%s\u001b[39;00m\u001b[38;5;124m leaves.\u001b[39m\u001b[38;5;124m\"\u001b[39m\n\u001b[1;32m    739\u001b[0m         \u001b[38;5;241m%\u001b[39m (n_clusters, n_leaves)\n\u001b[1;32m    740\u001b[0m     )\n\u001b[1;32m    741\u001b[0m \u001b[38;5;66;03m# In this function, we store nodes as a heap to avoid recomputing\u001b[39;00m\n\u001b[1;32m    742\u001b[0m \u001b[38;5;66;03m# the max of the nodes: the first element is always the smallest\u001b[39;00m\n\u001b[1;32m    743\u001b[0m \u001b[38;5;66;03m# We use negated indices as heaps work on smallest elements, and we\u001b[39;00m\n\u001b[1;32m    744\u001b[0m \u001b[38;5;66;03m# are interested in largest elements\u001b[39;00m\n\u001b[1;32m    745\u001b[0m \u001b[38;5;66;03m# children[-1] is the root of the tree\u001b[39;00m\n\u001b[1;32m    746\u001b[0m nodes \u001b[38;5;241m=\u001b[39m [\u001b[38;5;241m-\u001b[39m(\u001b[38;5;28mmax\u001b[39m(children[\u001b[38;5;241m-\u001b[39m\u001b[38;5;241m1\u001b[39m]) \u001b[38;5;241m+\u001b[39m \u001b[38;5;241m1\u001b[39m)]\n",
      "\u001b[0;31mValueError\u001b[0m: Cannot extract more clusters than samples: 5 clusters where given for a tree with 2 leaves."
     ]
    }
   ],
   "source": [
    "# Fit the final model\n",
    "final_cluster = AgglomerativeClustering(n_clusters=5, linkage='ward')\n",
    "final_labels = final_cluster.fit_predict(features_scaled)\n",
    "\n",
    "# Add cluster labels to the original DataFrame\n",
    "df['Cluster'] = final_labels\n",
    "\n",
    "\n",
    "# Analyze clusters\n",
    "for i in range(final_cluster.n_clusters):\n",
    "    cluster_data = df[df['Cluster'] == i]\n",
    "    print(f\"Cluster {i} Summary:\")\n",
    "    print(cluster_data.describe())"
   ]
  },
  {
   "cell_type": "code",
   "execution_count": 14,
   "id": "aec6fd5b",
   "metadata": {},
   "outputs": [
    {
     "name": "stderr",
     "output_type": "stream",
     "text": [
      "No artists with labels found to put in legend.  Note that artists whose label start with an underscore are ignored when legend() is called with no argument.\n"
     ]
    },
    {
     "name": "stdout",
     "output_type": "stream",
     "text": [
      "Column Revenue 2014(millions) not found in DataFrame.\n",
      "Column Revenue 2015(millions) not found in DataFrame.\n",
      "Column Revenue 2016(millions) not found in DataFrame.\n",
      "Column Revenue 2017(millions) not found in DataFrame.\n",
      "Column Revenue 2018(millions) not found in DataFrame.\n",
      "Column Revenue 2019(millions) not found in DataFrame.\n",
      "Column Revenue 2020(millions) not found in DataFrame.\n",
      "Column Revenue 2021(millions) not found in DataFrame.\n",
      "Column Revenue 2022(millions) not found in DataFrame.\n",
      "Column Revenue 2023(millions) not found in DataFrame.\n"
     ]
    },
    {
     "data": {
      "image/png": "[encoded data removed]",
      "text/plain": [
       "<Figure size 1200x800 with 1 Axes>"
      ]
     },
     "metadata": {},
     "output_type": "display_data"
    }
   ],
   "source": [
    "import matplotlib.pyplot as plt\n",
    "from sklearn.preprocessing import StandardScaler\n",
    "from sklearn.cluster import KMeans\n",
    "\n",
    "years = ['2014', '2015', '2016', '2017', '2018', '2019', '2020', '2021', '2022', '2023']\n",
    "colors = ['b', 'g', 'r', 'c', 'm', 'y', 'k', '#FF5733', '#C70039', '#900C3F']\n",
    "\n",
    "scaler = StandardScaler()\n",
    "plt.figure(figsize=(12, 8))\n",
    "\n",
    "for year, color in zip(years, colors):\n",
    "    column_name = f'Revenue {year}(millions)'\n",
    "    if column_name not in df.columns:\n",
    "        print(f\"Column {column_name} not found in DataFrame.\")\n",
    "        continue\n",
    "\n",
    "    current_year_data = df[column_name].dropna().values.reshape(-1, 1)\n",
    "    if current_year_data.size == 0:\n",
    "        print(f\"No data available for year {year}. Skipping...\")\n",
    "        continue\n",
    "\n",
    "    current_year_data_scaled = scaler.fit_transform(current_year_data)\n",
    "    num_samples = len(current_year_data_scaled)\n",
    "    max_k = min(num_samples, 10)\n",
    "    inertias = []\n",
    "    k_values = range(1, max_k + 1)\n",
    "    for k in k_values:\n",
    "        kmeans = KMeans(n_clusters=k, random_state=0)\n",
    "        kmeans.fit(current_year_data_scaled)\n",
    "        inertias.append(kmeans.inertia_)\n",
    "\n",
    "    plt.plot(k_values, inertias, marker='o', color=color, label=f'Year {year}')\n",
    "\n",
    "plt.title('Elbow Method Across Different Years')\n",
    "plt.xlabel('Number of Clusters (k)')\n",
    "plt.ylabel('Inertia')\n",
    "plt.legend()\n",
    "plt.grid(True)\n",
    "plt.show()\n"
   ]
  },
  {
   "cell_type": "code",
   "execution_count": null,
   "id": "63d07676",
   "metadata": {},
   "outputs": [],
   "source": [
    "years = ['2014', '2015', '2016', '2017', '2018', '2019', '2020', '2021', '2022', '2023']\n",
    "colors = colors = ['b', 'g', 'r', 'c', 'm', 'y', 'k', '#FF5733', '#C70039', '#900C3F']  # Define a list of colors for different years\n",
    "\n",
    "# Ensure data is scaled properly for each year\n",
    "scaler = StandardScaler()\n",
    "\n",
    "for idx, year in enumerate(years):\n",
    "    # Create a figure for each year inside the loop\n",
    "    plt.figure(figsize=(8, 6))\n",
    "\n",
    "    # Select the column for the current year and drop NA values\n",
    "    current_year_data = df[f'Revenue {year}(millions)'].dropna().values.reshape(-1, 1)\n",
    "    if current_year_data.size == 0:\n",
    "        print(f\"No data available for year {year}. Skipping...\")\n",
    "        continue  # Skip this year if there is no data\n",
    "    \n",
    "    current_year_data_scaled = scaler.fit_transform(current_year_data)\n",
    "\n",
    "    # Dynamically adjust the range of k based on the number of samples\n",
    "    num_samples = len(current_year_data_scaled)\n",
    "    max_k = min(num_samples, 10)  # Maximum number of clusters is the lesser of num_samples or 10\n",
    "\n",
    "    inertias = []\n",
    "    k_values = range(1, max_k + 1)  # Adjust range to ensure k does not exceed number of samples\n",
    "    for k in k_values:\n",
    "        kmeans = KMeans(n_clusters=k, random_state=0)\n",
    "        kmeans.fit(current_year_data_scaled)\n",
    "        inertias.append(kmeans.inertia_)\n",
    "\n",
    "    # Plotting the inertia graph for each year\n",
    "    plt.plot(k_values, inertias, marker='o', color=colors[idx % len(colors)])  # Use cycling colors list if needed\n",
    "    plt.title(f'Elbow Method for Year {year}')\n",
    "    plt.xlabel('Number of Clusters (k)')\n",
    "    plt.ylabel('Inertia')\n",
    "    plt.grid(True)\n",
    "    plt.show()\n"
   ]
  },
  {
   "cell_type": "code",
   "execution_count": null,
   "id": "89deb1f8",
   "metadata": {},
   "outputs": [],
   "source": [
    "# Example data generation (replace this with your actual data loading code)\n",
    "from sklearn.datasets import make_blobs\n",
    "data, _ = make_blobs(n_samples=300, centers=4, cluster_std=0.60, random_state=0)\n",
    "\n",
    "# Scale the data\n",
    "scaler = StandardScaler()\n",
    "data_scaled = scaler.fit_transform(data)"
   ]
  },
  {
   "cell_type": "code",
   "execution_count": null,
   "id": "88452ea2",
   "metadata": {},
   "outputs": [],
   "source": [
    "# Setting the number of clusters to 4 for this example\n",
    "kmeans = KMeans(n_clusters=4, random_state=0)\n",
    "kmeans.fit(data_scaled)\n",
    "\n",
    "# Getting the cluster labels\n",
    "cluster_labels = kmeans.labels_\n",
    "\n",
    "# Getting the coordinates of cluster centers.\n",
    "cluster_centers = kmeans.cluster_centers_\n",
    "\n"
   ]
  },
  {
   "cell_type": "code",
   "execution_count": null,
   "id": "bd0c929b",
   "metadata": {},
   "outputs": [],
   "source": [
    "# Calculate silhouette score\n",
    "silhouette_avg = silhouette_score(data_scaled, cluster_labels)\n",
    "print(f\"Silhouette Score: {silhouette_avg:.3f}\")"
   ]
  },
  {
   "cell_type": "code",
   "execution_count": null,
   "id": "03aca241",
   "metadata": {},
   "outputs": [],
   "source": [
    "plt.figure(figsize=(10, 6))\n",
    "plt.scatter(data_scaled[:, 0], data_scaled[:, 1], c=cluster_labels, s=50, cmap='viridis')\n",
    "centers = kmeans.cluster_centers_\n",
    "plt.scatter(centers[:, 0], centers[:, 1], c='red', s=300, alpha=0.6)  # plot centers\n",
    "plt.title(\"Visualization of clustered data\")\n",
    "plt.xlabel(\"Feature space for the 1st feature\")\n",
    "plt.ylabel(\"Feature space for the 2nd feature\")\n",
    "plt.show()"
   ]
  },
  {
   "cell_type": "code",
   "execution_count": null,
   "id": "d3e0928a",
   "metadata": {},
   "outputs": [],
   "source": []
  }
 ],
 "metadata": {
  "kernelspec": {
   "display_name": "Python 3 (ipykernel)",
   "language": "python",
   "name": "python3"
  },
  "language_info": {
   "codemirror_mode": {
    "name": "ipython",
    "version": 3
   },
   "file_extension": ".py",
   "mimetype": "text/x-python",
   "name": "python",
   "nbconvert_exporter": "python",
   "pygments_lexer": "ipython3",
   "version": "3.11.5"
  }
 },
 "nbformat": 4,
 "nbformat_minor": 5
}
